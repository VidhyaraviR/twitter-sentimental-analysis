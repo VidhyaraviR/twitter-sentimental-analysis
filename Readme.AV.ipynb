{
 "cells": [
  {
   "cell_type": "markdown",
   "id": "0c846146",
   "metadata": {},
   "source": [
    "## Twitter Sentimental Analysis"
   ]
  },
  {
   "cell_type": "markdown",
   "id": "9d29d98a",
   "metadata": {},
   "source": [
    "## Table of content"
   ]
  },
  {
   "cell_type": "markdown",
   "id": "23b69254",
   "metadata": {},
   "source": [
    "- Introduction <br> Definition of the problem <br> About the Dataset"
   ]
  },
  {
   "cell_type": "code",
   "execution_count": null,
   "id": "f9c527df",
   "metadata": {},
   "outputs": [],
   "source": []
  },
  {
   "cell_type": "markdown",
   "id": "27f80475",
   "metadata": {},
   "source": [
    "4.Exploratory Data Analysis"
   ]
  },
  {
   "cell_type": "markdown",
   "id": "df617b70",
   "metadata": {},
   "source": [
    "5.Word chart of each Sentiment"
   ]
  },
  {
   "cell_type": "markdown",
   "id": "8c350325",
   "metadata": {},
   "source": [
    "6.Classification Model"
   ]
  },
  {
   "cell_type": "markdown",
   "id": "ced8628b",
   "metadata": {},
   "source": [
    "## Introduction"
   ]
  },
  {
   "cell_type": "markdown",
   "id": "95b03257",
   "metadata": {},
   "source": [
    "The classification of sentiments in social media comments is a challenging task that involves the application of machine learning and natural language processing techniques. With the growth of social media, understanding the feelings expressed by users has become essential. In this work, we will approach this problem, collecting and analyzing data from previously classified comments. We will apply pre-processing techniques and experiment with different classification algorithms. Through appropriate metrics, we will evaluate the efficiency of the models. The objective is to understand the feelings present in social media and explore practical applications of this knowledge for companies, institutions and individuals interested in understanding the public's perception. We hope to contribute to informed and strategic decision-making."
   ]
  },
  {
   "cell_type": "markdown",
   "id": "6187dfb7",
   "metadata": {},
   "source": [
    "## Problem Definition"
   ]
  },
  {
   "cell_type": "markdown",
   "id": "f6017b9b",
   "metadata": {},
   "source": [
    "Ranking Sentiments in Twitter Comments"
   ]
  },
  {
   "cell_type": "markdown",
   "id": "e069e7d1",
   "metadata": {},
   "source": [
    "## About the Dataset"
   ]
  },
  {
   "cell_type": "markdown",
   "id": "826ffab2",
   "metadata": {},
   "source": [
    "This is a sentiment analysis dataset from the social network Twitter. Within this set we have some variables, and the task is to evaluate the sentiment of each message published on the social network. There are 4 types of classes in the data set, namely: Positive, Negative, Neutral and Irrelevant."
   ]
  },
  {
   "cell_type": "code",
   "execution_count": null,
   "id": "a418ad5e",
   "metadata": {},
   "outputs": [],
   "source": []
  }
 ],
 "metadata": {
  "kernelspec": {
   "display_name": "Python 3 (ipykernel)",
   "language": "python",
   "name": "python3"
  },
  "language_info": {
   "codemirror_mode": {
    "name": "ipython",
    "version": 3
   },
   "file_extension": ".py",
   "mimetype": "text/x-python",
   "name": "python",
   "nbconvert_exporter": "python",
   "pygments_lexer": "ipython3",
   "version": "3.11.4"
  }
 },
 "nbformat": 4,
 "nbformat_minor": 5
}
