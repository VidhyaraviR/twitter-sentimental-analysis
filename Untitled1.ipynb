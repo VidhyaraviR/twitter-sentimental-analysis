{
 "cells": [
  {
   "cell_type": "markdown",
   "id": "002948e1",
   "metadata": {},
   "source": [
    "## Final prediction"
   ]
  },
  {
   "cell_type": "code",
   "execution_count": 2,
   "id": "6cac4a0f",
   "metadata": {},
   "outputs": [],
   "source": [
    "import pandas as pd\n",
    "import numpy as np"
   ]
  },
  {
   "cell_type": "code",
   "execution_count": 3,
   "id": "03e2f96d",
   "metadata": {},
   "outputs": [],
   "source": [
    "column_names=['id','company','feelings','tweet']\n",
    "twitter_sentimental_analysis=pd.read_csv(\"twitter_validation.csv\",sep=',',names=column_names)"
   ]
  },
  {
   "cell_type": "code",
   "execution_count": null,
   "id": "f4928e0e",
   "metadata": {},
   "outputs": [],
   "source": []
  }
 ],
 "metadata": {
  "kernelspec": {
   "display_name": "Python 3 (ipykernel)",
   "language": "python",
   "name": "python3"
  },
  "language_info": {
   "codemirror_mode": {
    "name": "ipython",
    "version": 3
   },
   "file_extension": ".py",
   "mimetype": "text/x-python",
   "name": "python",
   "nbconvert_exporter": "python",
   "pygments_lexer": "ipython3",
   "version": "3.11.4"
  }
 },
 "nbformat": 4,
 "nbformat_minor": 5
}
